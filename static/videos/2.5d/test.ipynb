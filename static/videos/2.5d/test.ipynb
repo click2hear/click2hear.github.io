{
 "cells": [
  {
   "cell_type": "code",
   "execution_count": 1,
   "metadata": {},
   "outputs": [],
   "source": [
    "import soundfile as sf\n",
    "import librosa"
   ]
  },
  {
   "cell_type": "code",
   "execution_count": 20,
   "metadata": {},
   "outputs": [],
   "source": [
    "left_inp = librosa.load('onlyleft_input_binaural.wav', sr=16000, mono=False)[0]\n",
    "right_inp = librosa.load('onlyright_input_binaural.wav', sr=16000, mono=False)[0]\n",
    "left_pred = librosa.load('onlyleft_predicted_binaural.wav', sr=16000, mono=False)[0]\n",
    "right_pred = librosa.load('onlyright_predicted_binaural.wav', sr=16000, mono=False)[0]\n",
    "left_mix = librosa.load('onlyleft_mixed_mono.wav', sr=16000, mono=False)[0]\n",
    "right_mix = librosa.load('onlyright_mixed_mono.wav', sr=16000, mono=False)[0]\n",
    "inp = librosa.load('input_binaural.wav', sr=16000, mono=False)[0]\n",
    "pred = librosa.load('predicted_binaural.wav', sr=16000, mono=False)[0]\n",
    "mix = librosa.load('mixed_mono.wav', sr=16000, mono=False)[0]"
   ]
  },
  {
   "cell_type": "code",
   "execution_count": 21,
   "metadata": {},
   "outputs": [
    {
     "data": {
      "text/plain": [
       "array([[-0.04089355, -0.06829834, -0.06411743, ..., -0.03417969,\n",
       "         0.00506592, -0.00201416],\n",
       "       [-0.04089355, -0.06829834, -0.06411743, ..., -0.03417969,\n",
       "         0.00506592, -0.00201416]], dtype=float32)"
      ]
     },
     "execution_count": 21,
     "metadata": {},
     "output_type": "execute_result"
    }
   ],
   "source": [
    "left_inp"
   ]
  },
  {
   "cell_type": "code",
   "execution_count": 22,
   "metadata": {},
   "outputs": [
    {
     "data": {
      "text/plain": [
       "array([[-0.02832031, -0.03305054, -0.00692749, ...,  0.04016113,\n",
       "         0.01889038, -0.00027466],\n",
       "       [-0.02832031, -0.03305054, -0.00692749, ...,  0.04016113,\n",
       "         0.01889038, -0.00027466]], dtype=float32)"
      ]
     },
     "execution_count": 22,
     "metadata": {},
     "output_type": "execute_result"
    }
   ],
   "source": [
    "right_inp"
   ]
  },
  {
   "cell_type": "code",
   "execution_count": 23,
   "metadata": {},
   "outputs": [
    {
     "data": {
      "text/plain": [
       "array([-0.04089355, -0.06829834, -0.06411743, ..., -0.03417969,\n",
       "        0.00506592, -0.00201416], dtype=float32)"
      ]
     },
     "execution_count": 23,
     "metadata": {},
     "output_type": "execute_result"
    }
   ],
   "source": [
    "left_mix"
   ]
  },
  {
   "cell_type": "code",
   "execution_count": 24,
   "metadata": {},
   "outputs": [
    {
     "data": {
      "text/plain": [
       "array([-0.02832031, -0.03305054, -0.00692749, ...,  0.04016113,\n",
       "        0.01889038, -0.00027466], dtype=float32)"
      ]
     },
     "execution_count": 24,
     "metadata": {},
     "output_type": "execute_result"
    }
   ],
   "source": [
    "right_mix"
   ]
  },
  {
   "cell_type": "code",
   "execution_count": 25,
   "metadata": {},
   "outputs": [
    {
     "data": {
      "text/plain": [
       "array([[-0.0721283 , -0.10124946, -0.09683967, ..., -0.03593278,\n",
       "        -0.06414473, -0.05196488],\n",
       "       [-0.00965893, -0.03534734, -0.03139532, ..., -0.02459502,\n",
       "        -0.05661178, -0.04337227]], dtype=float32)"
      ]
     },
     "execution_count": 25,
     "metadata": {},
     "output_type": "execute_result"
    }
   ],
   "source": [
    "left_pred"
   ]
  },
  {
   "cell_type": "code",
   "execution_count": 26,
   "metadata": {},
   "outputs": [
    {
     "data": {
      "text/plain": [
       "array([[-0.03992093, -0.04359603, -0.01238811, ...,  0.01650918,\n",
       "         0.05826414,  0.05578768],\n",
       "       [-0.01671982, -0.02250516, -0.00146699, ...,  0.00414538,\n",
       "         0.04288888,  0.03470492]], dtype=float32)"
      ]
     },
     "execution_count": 26,
     "metadata": {},
     "output_type": "execute_result"
    }
   ],
   "source": [
    "right_pred"
   ]
  },
  {
   "cell_type": "code",
   "execution_count": 27,
   "metadata": {},
   "outputs": [
    {
     "data": {
      "text/plain": [
       "array([[-0.05718887, -0.07336044, -0.05579996, ..., -0.00802398,\n",
       "        -0.00385249, -0.00123024],\n",
       "       [-0.01202512, -0.02798855, -0.01524508, ..., -0.01209378,\n",
       "        -0.00661123, -0.00176799]], dtype=float32)"
      ]
     },
     "execution_count": 27,
     "metadata": {},
     "output_type": "execute_result"
    }
   ],
   "source": [
    "pred"
   ]
  },
  {
   "cell_type": "code",
   "execution_count": 15,
   "metadata": {},
   "outputs": [],
   "source": [
    "import numpy as np\n",
    "def cal_normdiff(a, b):\n",
    "    return np.linalg.norm(a - b)\n"
   ]
  },
  {
   "cell_type": "code",
   "execution_count": 18,
   "metadata": {},
   "outputs": [
    {
     "data": {
      "text/plain": [
       "20.411007"
      ]
     },
     "execution_count": 18,
     "metadata": {},
     "output_type": "execute_result"
    }
   ],
   "source": [
    "cal_normdiff(left_pred, left_inp)"
   ]
  },
  {
   "cell_type": "code",
   "execution_count": 19,
   "metadata": {},
   "outputs": [
    {
     "data": {
      "text/plain": [
       "8.255097"
      ]
     },
     "execution_count": 19,
     "metadata": {},
     "output_type": "execute_result"
    }
   ],
   "source": [
    "cal_normdiff(right_pred, right_inp)"
   ]
  },
  {
   "cell_type": "code",
   "execution_count": 28,
   "metadata": {},
   "outputs": [
    {
     "data": {
      "text/plain": [
       "15.363849"
      ]
     },
     "execution_count": 28,
     "metadata": {},
     "output_type": "execute_result"
    }
   ],
   "source": [
    "cal_normdiff(pred, inp)"
   ]
  },
  {
   "cell_type": "code",
   "execution_count": 30,
   "metadata": {},
   "outputs": [
    {
     "data": {
      "text/plain": [
       "27.231007"
      ]
     },
     "execution_count": 30,
     "metadata": {},
     "output_type": "execute_result"
    }
   ],
   "source": [
    "cal_normdiff(left_pred, inp)"
   ]
  },
  {
   "cell_type": "code",
   "execution_count": 31,
   "metadata": {},
   "outputs": [
    {
     "data": {
      "text/plain": [
       "26.942867"
      ]
     },
     "execution_count": 31,
     "metadata": {},
     "output_type": "execute_result"
    }
   ],
   "source": [
    "cal_normdiff(right_pred, inp)"
   ]
  },
  {
   "cell_type": "code",
   "execution_count": 32,
   "metadata": {},
   "outputs": [
    {
     "data": {
      "text/plain": [
       "15.363849"
      ]
     },
     "execution_count": 32,
     "metadata": {},
     "output_type": "execute_result"
    }
   ],
   "source": [
    "cal_normdiff(pred, inp)"
   ]
  },
  {
   "cell_type": "code",
   "execution_count": null,
   "metadata": {},
   "outputs": [],
   "source": [
    "cal_normdiff(left_pred,"
   ]
  }
 ],
 "metadata": {
  "kernelspec": {
   "display_name": "Python 3",
   "language": "python",
   "name": "python3"
  },
  "language_info": {
   "codemirror_mode": {
    "name": "ipython",
    "version": 3
   },
   "file_extension": ".py",
   "mimetype": "text/x-python",
   "name": "python",
   "nbconvert_exporter": "python",
   "pygments_lexer": "ipython3",
   "version": "3.8.10"
  },
  "orig_nbformat": 4
 },
 "nbformat": 4,
 "nbformat_minor": 2
}
